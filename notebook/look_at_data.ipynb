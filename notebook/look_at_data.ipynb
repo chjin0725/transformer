{
 "cells": [
  {
   "cell_type": "code",
   "execution_count": 1,
   "metadata": {},
   "outputs": [],
   "source": [
    "import torch\n",
    "from torchtext.datasets import Multi30k\n",
    "from torchtext.data import Field, BucketIterator\n",
    "\n",
    "\n",
    "SRC = Field(tokenize = \"spacy\",\n",
    "            tokenizer_language=\"de\",\n",
    "            init_token = '<sos>',\n",
    "            eos_token = '<eos>',\n",
    "            batch_first=True,\n",
    "            lower = True)\n",
    "\n",
    "TRG = Field(tokenize = \"spacy\",\n",
    "            tokenizer_language=\"en\",\n",
    "            init_token = '<sos>',\n",
    "            eos_token = '<eos>',\n",
    "            batch_first=True,\n",
    "            lower = True)\n",
    "\n",
    "train_data, valid_data, test_data = Multi30k.splits(exts = ('.de', '.en'),\n",
    "                                                    fields = (SRC, TRG))\n",
    "\n",
    "SRC.build_vocab(train_data, min_freq = 2)\n",
    "TRG.build_vocab(train_data, min_freq = 2)\n",
    "\n",
    "device = torch.device('cuda' if torch.cuda.is_available() else 'cpu')\n",
    "\n",
    "BATCH_SIZE = 128\n",
    "\n",
    "train_iterator, valid_iterator, test_iterator = BucketIterator.splits(\n",
    "    (train_data, valid_data, test_data),\n",
    "    batch_size = BATCH_SIZE,\n",
    "    device = device,\n",
    "    shuffle=True)"
   ]
  },
  {
   "cell_type": "code",
   "execution_count": 5,
   "metadata": {},
   "outputs": [
    {
     "data": {
      "text/plain": [
       "'<torchtext.data.field.Field object at 0x00000262E2D4F100>'"
      ]
     },
     "execution_count": 5,
     "metadata": {},
     "output_type": "execute_result"
    }
   ],
   "source": [
    "SRC.__str__()"
   ]
  },
  {
   "cell_type": "code",
   "execution_count": 6,
   "metadata": {},
   "outputs": [
    {
     "data": {
      "text/plain": [
       "227"
      ]
     },
     "execution_count": 6,
     "metadata": {},
     "output_type": "execute_result"
    }
   ],
   "source": [
    "train_iterator.__len__()"
   ]
  },
  {
   "cell_type": "code",
   "execution_count": 8,
   "metadata": {
    "scrolled": true
   },
   "outputs": [
    {
     "data": {
      "text/plain": [
       "\n",
       "[torchtext.data.batch.Batch of size 128 from MULTI30K]\n",
       "\t[.src]:[torch.cuda.LongTensor of size 128x27 (GPU 0)]\n",
       "\t[.trg]:[torch.cuda.LongTensor of size 128x25 (GPU 0)]"
      ]
     },
     "execution_count": 8,
     "metadata": {},
     "output_type": "execute_result"
    }
   ],
   "source": [
    "sample_iter = iter(train_iterator)\n",
    "sample = next(sample_iter)\n",
    "sample"
   ]
  },
  {
   "cell_type": "code",
   "execution_count": 8,
   "metadata": {},
   "outputs": [
    {
     "name": "stdout",
     "output_type": "stream",
     "text": [
      "<unk> : 0\n",
      "<pad> : 1\n",
      "<sos> : 2\n",
      "<eos> : 3\n",
      ". : 4\n",
      "ein : 5\n",
      "einem : 6\n",
      "in : 7\n",
      "eine : 8\n",
      ", : 9\n",
      "und : 10\n",
      "mit : 11\n",
      "auf : 12\n",
      "mann : 13\n",
      "einer : 14\n",
      "der : 15\n",
      "frau : 16\n",
      "die : 17\n",
      "zwei : 18\n",
      "einen : 19\n"
     ]
    }
   ],
   "source": [
    "i = 0\n",
    "for key in SRC.vocab.stoi:\n",
    "    print(f\"{key} : {SRC.vocab.stoi[key]}\")\n",
    "    i += 1\n",
    "    if i == 20:\n",
    "        break"
   ]
  },
  {
   "cell_type": "code",
   "execution_count": 9,
   "metadata": {},
   "outputs": [
    {
     "name": "stdout",
     "output_type": "stream",
     "text": [
      "<unk> : 0\n",
      "<pad> : 1\n",
      "<sos> : 2\n",
      "<eos> : 3\n",
      "a : 4\n",
      ". : 5\n",
      "in : 6\n",
      "the : 7\n",
      "on : 8\n",
      "man : 9\n",
      "is : 10\n",
      "and : 11\n",
      "of : 12\n",
      "with : 13\n",
      "woman : 14\n",
      ", : 15\n",
      "two : 16\n",
      "are : 17\n",
      "to : 18\n",
      "people : 19\n"
     ]
    }
   ],
   "source": [
    "i = 0\n",
    "for key in TRG.vocab.stoi:\n",
    "    print(f\"{key} : {TRG.vocab.stoi[key]}\")\n",
    "    i += 1\n",
    "    if i == 20:\n",
    "        break"
   ]
  },
  {
   "cell_type": "code",
   "execution_count": 5,
   "metadata": {},
   "outputs": [
    {
     "name": "stdout",
     "output_type": "stream",
     "text": [
      "torch.Size([128, 27])\n"
     ]
    },
    {
     "data": {
      "text/plain": [
       "tensor([[   2,    5,  171,  ...,    1,    1,    1],\n",
       "        [   2,    5,   13,  ...,    1,    1,    1],\n",
       "        [   2,    5,   49,  ...,    1,    1,    1],\n",
       "        ...,\n",
       "        [   2,   30,   10,  ...,    1,    1,    1],\n",
       "        [   2, 1700, 4822,  ...,    1,    1,    1],\n",
       "        [   2,    5, 3734,  ...,    1,    1,    1]], device='cuda:0')"
      ]
     },
     "execution_count": 5,
     "metadata": {},
     "output_type": "execute_result"
    }
   ],
   "source": [
    "print(sample.src.size())\n",
    "sample.src"
   ]
  },
  {
   "cell_type": "code",
   "execution_count": 10,
   "metadata": {},
   "outputs": [
    {
     "name": "stdout",
     "output_type": "stream",
     "text": [
      "torch.Size([128, 28])\n"
     ]
    },
    {
     "data": {
      "text/plain": [
       "tensor([[   2,    4,   61,  ...,    1,    1,    1],\n",
       "        [   2,    4,    9,  ...,    1,    1,    1],\n",
       "        [   2,    4,   55,  ...,    1,    1,    1],\n",
       "        ...,\n",
       "        [   2,   30,   11,  ...,    1,    1,    1],\n",
       "        [   2, 1227,    0,  ...,    1,    1,    1],\n",
       "        [   2,    4,  192,  ...,    1,    1,    1]], device='cuda:0')"
      ]
     },
     "execution_count": 10,
     "metadata": {},
     "output_type": "execute_result"
    }
   ],
   "source": [
    "print(sample.trg.size())\n",
    "sample.trg"
   ]
  }
 ],
 "metadata": {
  "kernelspec": {
   "display_name": "Python 3",
   "language": "python",
   "name": "python3"
  },
  "language_info": {
   "codemirror_mode": {
    "name": "ipython",
    "version": 3
   },
   "file_extension": ".py",
   "mimetype": "text/x-python",
   "name": "python",
   "nbconvert_exporter": "python",
   "pygments_lexer": "ipython3",
   "version": "3.8.3"
  }
 },
 "nbformat": 4,
 "nbformat_minor": 4
}
